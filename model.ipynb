{
 "cells": [
  {
   "cell_type": "code",
   "execution_count": 1,
   "metadata": {},
   "outputs": [],
   "source": [
    "from pandas import read_csv\n",
    "from sklearn.model_selection import train_test_split"
   ]
  },
  {
   "cell_type": "code",
   "execution_count": 17,
   "metadata": {},
   "outputs": [
    {
     "name": "stdout",
     "output_type": "stream",
     "text": [
      "Shape of Train Data : (152287, 15)\n",
      "Shape of Test Data : (38072, 15)\n"
     ]
    }
   ],
   "source": [
    "data = read_csv('processed_data_input4.csv',header=None)\n",
    "y = read_csv('processed_data_output4.csv',header=None)\n",
    "\n",
    "X_train, X_test, y_train, y_test = train_test_split(data, y, test_size=0.2, shuffle=True)\n",
    "\n",
    "print(\"Shape of Train Data : {}\".format(X_train.shape))\n",
    "print(\"Shape of Test Data : {}\".format(X_test.shape))\n",
    "\n"
   ]
  },
  {
   "cell_type": "code",
   "execution_count": 2,
   "metadata": {},
   "outputs": [],
   "source": [
    "from tensorflow.keras.models import Sequential\n",
    "from tensorflow.keras.layers import Dense\n",
    "from tensorflow.keras.layers import Dropout\n",
    "from tensorflow.keras.callbacks import EarlyStopping\n"
   ]
  },
  {
   "cell_type": "code",
   "execution_count": 3,
   "metadata": {},
   "outputs": [],
   "source": [
    "early_stop = EarlyStopping(monitor='loss', patience=2)\n",
    "model = Sequential()\n",
    "\n",
    "model.add(Dense(32, activation='relu', input_shape=(15,),kernel_initializer='random_uniform'))\n",
    "model.add(Dense(64, activation='relu',kernel_initializer='random_uniform'))\n",
    "model.add(Dense(32, activation='relu',kernel_initializer='random_uniform'))\n",
    "model.add(Dense(16, activation='relu',kernel_initializer='random_uniform'))\n",
    "model.add(Dense(6, activation='softmax',kernel_initializer='random_uniform'))\n"
   ]
  },
  {
   "cell_type": "code",
   "execution_count": 29,
   "metadata": {},
   "outputs": [
    {
     "name": "stdout",
     "output_type": "stream",
     "text": [
      "Model: \"sequential_1\"\n",
      "_________________________________________________________________\n",
      "Layer (type)                 Output Shape              Param #   \n",
      "=================================================================\n",
      "dense_5 (Dense)              (None, 32)                512       \n",
      "_________________________________________________________________\n",
      "dense_6 (Dense)              (None, 64)                2112      \n",
      "_________________________________________________________________\n",
      "dense_7 (Dense)              (None, 32)                2080      \n",
      "_________________________________________________________________\n",
      "dense_8 (Dense)              (None, 16)                528       \n",
      "_________________________________________________________________\n",
      "dense_9 (Dense)              (None, 6)                 102       \n",
      "=================================================================\n",
      "Total params: 5,334\n",
      "Trainable params: 5,334\n",
      "Non-trainable params: 0\n",
      "_________________________________________________________________\n",
      "Epoch 1/10\n",
      "3808/3808 [==============================] - 4s 1ms/step - loss: 0.1286 - accuracy: 0.9526 - val_loss: 0.1300 - val_accuracy: 0.9503\n",
      "Epoch 2/10\n",
      "3808/3808 [==============================] - 4s 1ms/step - loss: 0.1301 - accuracy: 0.9530 - val_loss: 0.1312 - val_accuracy: 0.9534\n",
      "Epoch 3/10\n",
      "3808/3808 [==============================] - 4s 1ms/step - loss: 0.1236 - accuracy: 0.9542 - val_loss: 0.1416 - val_accuracy: 0.9472\n",
      "Epoch 4/10\n",
      "3808/3808 [==============================] - 4s 1ms/step - loss: 0.1249 - accuracy: 0.9540 - val_loss: 0.1266 - val_accuracy: 0.9529\n",
      "Epoch 5/10\n",
      "3808/3808 [==============================] - 4s 1ms/step - loss: 0.1245 - accuracy: 0.9539 - val_loss: 0.1271 - val_accuracy: 0.9550\n",
      "Epoch 6/10\n",
      "3808/3808 [==============================] - 4s 962us/step - loss: 0.1267 - accuracy: 0.9538 - val_loss: 0.1393 - val_accuracy: 0.9484\n",
      "Epoch 7/10\n",
      "3808/3808 [==============================] - 4s 996us/step - loss: 0.1252 - accuracy: 0.9540 - val_loss: 0.1334 - val_accuracy: 0.9505\n",
      "Epoch 8/10\n",
      "3808/3808 [==============================] - 4s 997us/step - loss: 0.1193 - accuracy: 0.9560 - val_loss: 0.1278 - val_accuracy: 0.9526\n",
      "Epoch 9/10\n",
      "3808/3808 [==============================] - 4s 1ms/step - loss: 0.1212 - accuracy: 0.9554 - val_loss: 0.1368 - val_accuracy: 0.9506\n",
      "Epoch 10/10\n",
      "3808/3808 [==============================] - 4s 1ms/step - loss: 0.1265 - accuracy: 0.9541 - val_loss: 0.1242 - val_accuracy: 0.9548\n"
     ]
    }
   ],
   "source": [
    "model.compile(optimizer='adam', loss='sparse_categorical_crossentropy', metrics=['accuracy'])\n",
    "model.summary()\n",
    "\n",
    "from sklearn.preprocessing import LabelEncoder\n",
    "y = LabelEncoder().fit_transform(y)\n",
    "\n",
    "hist = model.fit(X_train , y_train , epochs=10, validation_split=0.2)\n"
   ]
  },
  {
   "cell_type": "code",
   "execution_count": 4,
   "metadata": {},
   "outputs": [],
   "source": [
    "model.load_weights('dnn_full_w_oh.h5')"
   ]
  },
  {
   "cell_type": "code",
   "execution_count": 77,
   "metadata": {},
   "outputs": [],
   "source": [
    "model.save_weights('dnn_not_full_w_oh.h5')\n"
   ]
  },
  {
   "cell_type": "code",
   "execution_count": 31,
   "metadata": {},
   "outputs": [],
   "source": [
    "test = [.489]"
   ]
  },
  {
   "cell_type": "code",
   "execution_count": 32,
   "metadata": {},
   "outputs": [],
   "source": [
    "import numpy as np\n",
    "def predict_state(test_dat):\n",
    "    \n",
    "    \n",
    "    \n",
    "    for i in test_dat:\n",
    "        print('Bearing Fault : '+str(\"{:.2f}\".format(i*100))+\" %\")"
   ]
  },
  {
   "cell_type": "code",
   "execution_count": 33,
   "metadata": {},
   "outputs": [
    {
     "name": "stdout",
     "output_type": "stream",
     "text": [
      "Bearing Fault : 48.90 %\n"
     ]
    }
   ],
   "source": [
    "predict_state(test)"
   ]
  },
  {
   "cell_type": "code",
   "execution_count": 59,
   "metadata": {},
   "outputs": [
    {
     "data": {
      "image/png": "[encoded data removed]",
      "text/plain": [
       "<Figure size 432x288 with 1 Axes>"
      ]
     },
     "metadata": {
      "needs_background": "light"
     },
     "output_type": "display_data"
    }
   ],
   "source": [
    "import matplotlib.pyplot as plt\n",
    "import pylab\n",
    "plt.plot(hist.history['loss'])\n",
    "plt.plot(hist.history['val_loss'])\n",
    "plt.title('Model loss')\n",
    "plt.ylabel('Accuracy')\n",
    "plt.xlabel('Epoch')\n",
    "plt.legend(['train', 'validation'], loc='upper right')\n",
    "#plt.show()\n",
    "pylab.savefig('fpp.png')\n"
   ]
  },
  {
   "cell_type": "code",
   "execution_count": 43,
   "metadata": {},
   "outputs": [
    {
     "data": {
      "text/plain": [
       "<Figure size 432x288 with 0 Axes>"
      ]
     },
     "metadata": {},
     "output_type": "display_data"
    }
   ],
   "source": [
    "plt.savefig('books_read.png')"
   ]
  },
  {
   "cell_type": "code",
   "execution_count": 18,
   "metadata": {},
   "outputs": [],
   "source": [
    "\n",
    "import numpy as np\n",
    "\n",
    "\n",
    "predicted = np.argmax(model.predict(X_train), axis = 1)"
   ]
  },
  {
   "cell_type": "code",
   "execution_count": 19,
   "metadata": {},
   "outputs": [
    {
     "name": "stdout",
     "output_type": "stream",
     "text": [
      "152287\n"
     ]
    }
   ],
   "source": [
    "print(len(predicted))"
   ]
  },
  {
   "cell_type": "code",
   "execution_count": 20,
   "metadata": {},
   "outputs": [],
   "source": [
    "a = y_train.values.tolist()\n",
    "flatten_list = lambda y:[x for a in y for x in flatten_list(a)] if type(y) is list else [y]"
   ]
  },
  {
   "cell_type": "code",
   "execution_count": 21,
   "metadata": {},
   "outputs": [],
   "source": [
    "flat = flatten_list(a)"
   ]
  },
  {
   "cell_type": "code",
   "execution_count": 22,
   "metadata": {},
   "outputs": [
    {
     "data": {
      "text/plain": [
       "152287"
      ]
     },
     "execution_count": 22,
     "metadata": {},
     "output_type": "execute_result"
    }
   ],
   "source": [
    "len(flat)"
   ]
  },
  {
   "cell_type": "code",
   "execution_count": 23,
   "metadata": {},
   "outputs": [],
   "source": [
    "def accuracy(l1, l2):\n",
    "    count = [0]*6\n",
    "    correct = [0]*6\n",
    "    for i in range(len(l1)):\n",
    "        count[l1[i]]+=1\n",
    "        if l1[i]==l2[i]:\n",
    "            correct[l1[i]]+=1\n",
    "    return count, correct\n",
    "\n",
    "\n",
    "count, correct = accuracy(flat, predicted)\n"
   ]
  }
 ],
 "metadata": {
  "interpreter": {
   "hash": "86165dc86ea16b1240e21bbfd0156d2f730219c78bbf121aa5948e60278fe413"
  },
  "kernelspec": {
   "display_name": "Python 3.8.12 ('project_py')",
   "language": "python",
   "name": "python3"
  },
  "language_info": {
   "codemirror_mode": {
    "name": "ipython",
    "version": 3
   },
   "file_extension": ".py",
   "mimetype": "text/x-python",
   "name": "python",
   "nbconvert_exporter": "python",
   "pygments_lexer": "ipython3",
   "version": "3.8.12"
  },
  "orig_nbformat": 4
 },
 "nbformat": 4,
 "nbformat_minor": 2
}
